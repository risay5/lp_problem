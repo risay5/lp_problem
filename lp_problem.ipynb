{
 "cells": [
  {
   "cell_type": "markdown",
   "metadata": {},
   "source": [
    "# ASSIGNMENT 3 "
   ]
  },
  {
   "cell_type": "markdown",
   "metadata": {},
   "source": [
    "YASIR EMRE MARKAL   21069036\n",
    "\n",
    "\n",
    "RECEP TAYYIP SEZER  20069006\n",
    "\n",
    "\n",
    "MUHAMMET ENES SENOL 20069049"
   ]
  },
  {
   "cell_type": "code",
   "execution_count": 67,
   "metadata": {},
   "outputs": [
    {
     "name": "stdout",
     "output_type": "stream",
     "text": [
      "        Beşiktaş       Davutpaşa      \n",
      "        T-shirts Jeans  T-shirts Jeans\n",
      "Cutting        8     2         9     4\n",
      "Sewing         8     8         5     6\n"
     ]
    },
    {
     "data": {
      "text/plain": [
       "8"
      ]
     },
     "execution_count": 67,
     "metadata": {},
     "output_type": "execute_result"
    }
   ],
   "source": [
    "import pandas as pd\n",
    "import numpy as np\n",
    "import math\n",
    "from pulp import *\n",
    "\n",
    "# the seed number should be your student ID. \n",
    "# If it has letter, please ignore it and use only numbers in the ID\n",
    "np.random.seed(21069036) \n",
    "\n",
    "# Requirment of the production (proudction hour)\n",
    "RandomFtoD1 = np.round(np.random.uniform(low = 1, high = 10, size = 4),0).astype(int)\n",
    "RandomFtoD2 = np.reshape(RandomFtoD1, (2,2))\n",
    "BesiktasHour = pd.DataFrame(RandomFtoD2, columns=['T-shirts', 'Jeans'], \n",
    "                        index=[\"Cutting\", \"Sewing\"])\n",
    "BesiktasHour.columns=pd.MultiIndex.from_product([['Beşiktaş'],BesiktasHour.columns])\n",
    "\n",
    "# Shipment cost from distribution center to store\n",
    "RandomDtoS1 = np.round(np.random.uniform(low = 1, high = 10, size = 4),0).astype(int)\n",
    "RandomDtoS2 = np.reshape(RandomDtoS1, (2,2))\n",
    "DavutpasaHour = pd.DataFrame(RandomDtoS2, columns=['T-shirts', 'Jeans'], \n",
    "                        index=[\"Cutting\", \"Sewing\"])\n",
    "DavutpasaHour.columns=pd.MultiIndex.from_product([['Davutpaşa'],DavutpasaHour.columns])\n",
    "\n",
    "# Your Required Information About Production Hour\n",
    "df = pd.concat([BesiktasHour, DavutpasaHour], axis=1)\n",
    "print(df)\n",
    "df['Beşiktaş']['T-shirts']['Cutting']"
   ]
  },
  {
   "cell_type": "code",
   "execution_count": 68,
   "metadata": {},
   "outputs": [
    {
     "name": "stderr",
     "output_type": "stream",
     "text": [
      "C:\\Users\\yasir\\anaconda3\\lib\\site-packages\\pulp\\pulp.py:1352: UserWarning: Spaces are not permitted in the name. Converted to '_'\n",
      "  warnings.warn(\"Spaces are not permitted in the name. Converted to '_'\")\n"
     ]
    },
    {
     "data": {
      "text/plain": [
       "1"
      ]
     },
     "execution_count": 68,
     "metadata": {},
     "output_type": "execute_result"
    }
   ],
   "source": [
    "\n",
    "\n",
    "Clothes_ = [\"BesiktasT-shirt\", \"BesiktasJeans\",\"DavutpasaT-shirt\",\"DavutpasaJeans\"]\n",
    "\n",
    "Skills_ = [\"BesiktasCutting\", \"BesiktasSewing\",\"DavutpasaCutting\",\"DavutpasaSewing\"]\n",
    "\n",
    "Capacity_ = {\"BesiktasCutting\":80,\n",
    "                 \"BesiktasSewing\":60,\n",
    "                 \"DavutpasaCutting\":60,\n",
    "                 \"DavutpasaSewing\":75,\n",
    "                }\n",
    "\n",
    "operation_times = {\"BesiktasT-shirt\": {\"BesiktasCutting\":df['Beşiktaş']['T-shirts']['Cutting'],\n",
    "                                    \"BesiktasSewing\":df['Beşiktaş']['T-shirts']['Sewing'],\n",
    "                                    },\n",
    "                \"BesiktasJeans\": {\"BesiktasCutting\":df['Beşiktaş']['Jeans']['Cutting'],\n",
    "                                  \"BesiktasSewing\":df['Beşiktaş']['Jeans']['Sewing'],\n",
    "                                  \n",
    "                                  },\n",
    "                \"DavutpasaT-shirt\": {\n",
    "                                    \n",
    "                                    \"DavutpasaCutting\":df['Davutpaşa']['T-shirts']['Cutting'],\n",
    "                                     \"DavutpasaSewing\":df['Davutpaşa']['T-shirts']['Sewing']\n",
    "                                     },\n",
    "                \"DavutpasaJeans\": {\n",
    "                                   \n",
    "                                    \"DavutpasaCutting\":df['Davutpaşa']['Jeans']['Cutting'],\n",
    "                                    \"DavutpasaSewing\":df['Davutpaşa']['Jeans']['Sewing']}\n",
    "\n",
    "                }\n",
    "\n",
    "Profit = {\"BesiktasT-shirt\":10,\"BesiktasJeans\":15,\"DavutpasaT-shirt\":10,\"DavutpasaJeans\":15}\n",
    "\n",
    "prob = LpProblem(\"Cloth making\",LpMaximize)\n",
    "\n",
    "x = LpVariable.dicts(\"x\",Clothes_, lowBound=0, upBound=None, cat=LpInteger)\n",
    "\n",
    "# Define the objective function\n",
    "prob += lpSum(Profit[i]*x[i] for i in Clothes_)\n",
    "\n",
    "# Define the constraints\n",
    "for skills in Skills_[:2]:\n",
    "    prob += lpSum(operation_times[cloths][skills]*x[cloths] for cloths in Clothes_[:2]) <= Capacity_[skills]\n",
    "    \n",
    "for skills in Skills_[2:]:\n",
    "    prob += lpSum(operation_times[cloths][skills]*x[cloths] for cloths in Clothes_[2:]) <= Capacity_[skills]\n",
    "    \n",
    "prob += lpSum(4*x[i] for i in Clothes_) <= 120\n",
    "\n",
    "# solve the problem\n",
    "prob.solve()"
   ]
  },
  {
   "cell_type": "markdown",
   "metadata": {},
   "source": [
    "A) Production Quantities: \n"
   ]
  },
  {
   "cell_type": "code",
   "execution_count": 69,
   "metadata": {},
   "outputs": [
    {
     "name": "stdout",
     "output_type": "stream",
     "text": [
      "Status:  Optimal\n",
      "x_BesiktasJeans = 7\n",
      "x_BesiktasT_shirt = 0\n",
      "x_DavutpasaJeans = 12\n",
      "x_DavutpasaT_shirt = 0\n"
     ]
    }
   ],
   "source": [
    "# print the status of the solution\n",
    "print(\"Status: \",LpStatus[prob.status])\n",
    "\n",
    "# print the solution\n",
    "for v in prob.variables():\n",
    "        print(v.name, \"=\",v.varValue)\n"
   ]
  },
  {
   "cell_type": "markdown",
   "metadata": {},
   "source": [
    "B.1 Cutting times in Beşiktaş and in Davutpaşa"
   ]
  },
  {
   "cell_type": "code",
   "execution_count": 70,
   "metadata": {},
   "outputs": [
    {
     "name": "stdout",
     "output_type": "stream",
     "text": [
      "Besiktas cutting time = 14\n",
      "Davutpasa cutting time = 48\n"
     ]
    }
   ],
   "source": [
    "# print the cutting time for each Besiktas\n",
    "print(\"Besiktas cutting time =\", operation_times['BesiktasT-shirt']['BesiktasCutting']*value(x['BesiktasT-shirt']) + operation_times['BesiktasJeans']['BesiktasCutting']*value(x['BesiktasJeans']))\n",
    "\n",
    "# print the cutting time for each Davutpasa\n",
    "print(\"Davutpasa cutting time =\", operation_times['DavutpasaT-shirt']['DavutpasaCutting']*value(x['DavutpasaT-shirt']) + operation_times['DavutpasaJeans']['DavutpasaCutting']*value(x['DavutpasaJeans']))\n"
   ]
  },
  {
   "cell_type": "markdown",
   "metadata": {},
   "source": [
    "B.2 Sewing times in Beşiktaş and in Davutpaşa "
   ]
  },
  {
   "cell_type": "code",
   "execution_count": 71,
   "metadata": {},
   "outputs": [
    {
     "name": "stdout",
     "output_type": "stream",
     "text": [
      "Besiktas sewing time = 56\n",
      "Davutpasa sewing time = 72\n"
     ]
    }
   ],
   "source": [
    "# print the cutting time for each Besiktas\n",
    "print(\"Besiktas sewing time =\", operation_times['BesiktasT-shirt']['BesiktasSewing']*value(x['BesiktasT-shirt']) + operation_times['BesiktasJeans']['BesiktasSewing']*value(x['BesiktasJeans']))\n",
    "\n",
    "# print the cutting time for each Davutpasa\n",
    "print(\"Davutpasa sewing time =\", operation_times['DavutpasaT-shirt']['DavutpasaSewing']*value(x['DavutpasaT-shirt']) + operation_times['DavutpasaJeans']['DavutpasaSewing']*value(x['DavutpasaJeans']))\n"
   ]
  },
  {
   "cell_type": "markdown",
   "metadata": {},
   "source": [
    "B.3 Amount of cloths in Beşiktaş and in Davutpaşa\n"
   ]
  },
  {
   "cell_type": "code",
   "execution_count": 72,
   "metadata": {},
   "outputs": [
    {
     "name": "stdout",
     "output_type": "stream",
     "text": [
      "Total amount of clothes produced for Besiktas:  7\n",
      "Total amount of clothes produced for Davutpasa:  12\n"
     ]
    }
   ],
   "source": [
    "besiktas_clothes = x[\"BesiktasT-shirt\"].varValue + x[\"BesiktasJeans\"].varValue\n",
    "davutpasa_clothes = x[\"DavutpasaT-shirt\"].varValue + x[\"DavutpasaJeans\"].varValue\n",
    "\n",
    "print(\"Total amount of clothes produced for Besiktas: \", besiktas_clothes)\n",
    "print(\"Total amount of clothes produced for Davutpasa: \", davutpasa_clothes)\n"
   ]
  },
  {
   "cell_type": "markdown",
   "metadata": {},
   "source": [
    "C) Total profit. "
   ]
  },
  {
   "cell_type": "code",
   "execution_count": 73,
   "metadata": {},
   "outputs": [
    {
     "name": "stdout",
     "output_type": "stream",
     "text": [
      "Profit =  285\n"
     ]
    }
   ],
   "source": [
    "print(\"Profit = \",value(prob.objective))"
   ]
  }
 ],
 "metadata": {
  "kernelspec": {
   "display_name": "Python 3 (ipykernel)",
   "language": "python",
   "name": "python3"
  },
  "language_info": {
   "codemirror_mode": {
    "name": "ipython",
    "version": 3
   },
   "file_extension": ".py",
   "mimetype": "text/x-python",
   "name": "python",
   "nbconvert_exporter": "python",
   "pygments_lexer": "ipython3",
   "version": "3.9.13"
  }
 },
 "nbformat": 4,
 "nbformat_minor": 4
}
