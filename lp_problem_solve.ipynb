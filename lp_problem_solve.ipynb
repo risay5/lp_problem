{
 "cells": [
  {
   "cell_type": "code",
   "execution_count": 19,
   "id": "edd27de5",
   "metadata": {},
   "outputs": [
    {
     "name": "stdout",
     "output_type": "stream",
     "text": [
      "        Beşiktaş       Davutpaşa      \n",
      "        T-shirts Jeans  T-shirts Jeans\n",
      "Cutting       10     9         4     5\n",
      "Sewing         6     9         4    10\n"
     ]
    },
    {
     "data": {
      "text/plain": [
       "10"
      ]
     },
     "execution_count": 19,
     "metadata": {},
     "output_type": "execute_result"
    }
   ],
   "source": [
    "import pandas as pd\n",
    "import numpy as np\n",
    "import math\n",
    "from pulp import *\n",
    "\n",
    "# the seed number should be your student ID. \n",
    "# If it has letter, please ignore it and use only numbers in the ID\n",
    "np.random.seed(20069920) \n",
    "\n",
    "# Requirment of the production (proudction hour)\n",
    "RandomFtoD1 = np.round(np.random.uniform(low = 1, high = 10, size = 4),0).astype(int)\n",
    "RandomFtoD2 = np.reshape(RandomFtoD1, (2,2))\n",
    "BesiktasHour = pd.DataFrame(RandomFtoD2, columns=['T-shirts', 'Jeans'], \n",
    "                        index=[\"Cutting\", \"Sewing\"])\n",
    "BesiktasHour.columns=pd.MultiIndex.from_product([['Beşiktaş'],BesiktasHour.columns])\n",
    "\n",
    "# Shipment cost from distribution center to store\n",
    "RandomDtoS1 = np.round(np.random.uniform(low = 1, high = 10, size = 4),0).astype(int)\n",
    "RandomDtoS2 = np.reshape(RandomDtoS1, (2,2))\n",
    "DavutpasaHour = pd.DataFrame(RandomDtoS2, columns=['T-shirts', 'Jeans'], \n",
    "                        index=[\"Cutting\", \"Sewing\"])\n",
    "DavutpasaHour.columns=pd.MultiIndex.from_product([['Davutpaşa'],DavutpasaHour.columns])\n",
    "\n",
    "# Your Required Information About Production Hour\n",
    "df = pd.concat([BesiktasHour, DavutpasaHour], axis=1)\n",
    "print(df)\n",
    "df['Beşiktaş']['T-shirts']['Cutting']"
   ]
  },
  {
   "cell_type": "code",
   "execution_count": 24,
   "id": "e58af348",
   "metadata": {},
   "outputs": [
    {
     "name": "stdout",
     "output_type": "stream",
     "text": [
      "Status:  Optimal\n",
      "x_BesiktasJeans = 6\n",
      "x_BesiktasT_shirt = 1\n",
      "x_DavutpasaJeans = 3\n",
      "x_DavutpasaT_shirt = 11\n",
      "Profit =  255\n"
     ]
    }
   ],
   "source": [
    "\n",
    "\n",
    "\"Clothes\" = [\"BesiktasT-shirt\", \"BesiktasJeans\",\"DavutpasaT-shirt\",\"DavutpasaJeans\"]\n",
    "\n",
    "Skills = [\"BesiktasCutting\", \"BesiktasSewing\",\"DavutpasaCutting\",\"DavutpasaSewing\"]\n",
    "\n",
    "SkillCapacity = {\"BesiktasCutting\": 80,\n",
    "                 \"BesiktasSewing\": 60,\n",
    "                 \"DavutpasaCutting\": 60,\n",
    "                 \"DavutpasaSewing\": 75,\n",
    "                }\n",
    "\n",
    "Requirements = {\"BesiktasT-shirt\": {\"BesiktasCutting\": 10,\n",
    "                                    \"BesiktasSewing\":6\n",
    "                                    },\n",
    "                \"BesiktasJeans\": {\"BesiktasCutting\": 9,\n",
    "                                  \"BesiktasSewing\":9,\n",
    "                                  \n",
    "                                  },\n",
    "                \"DavutpasaT-shirt\": {\n",
    "                                    \n",
    "                                    \"DavutpasaCutting\":4,\n",
    "                                     \"DavutpasaSewing\":4\n",
    "                                     },\n",
    "                \"DavutpasaJeans\": {\n",
    "                                   \n",
    "                                    \"DavutpasaCutting\":5,\n",
    "                                    \"DavutpasaSewing\":10}\n",
    "\n",
    "                }\n",
    "\n",
    "Profit = {\"BesiktasT-shirt\":10,\"BesiktasJeans\":15,\"DavutpasaT-shirt\":10,\"DavutpasaJeans\":15}\n",
    "\n",
    "prob = LpProblem(\"Cloth making\", LpMaximize)\n",
    "\n",
    "x = LpVariable.dicts(\"x\", Clothes, lowBound=0, upBound=None, cat=const.LpInteger)\n",
    "\n",
    "# objective function\n",
    "prob += lpSum(Profit[i]*x[i] for i in Clothes)\n",
    "\n",
    "# constraints\n",
    "for s in Skills[:2]:\n",
    "    prob += lpSum(Requirements[c][s]*x[c] for c in Clothes[:2]) <= SkillCapacity[s]\n",
    "    \n",
    "for s in Skills[2:]:\n",
    "    prob += lpSum(Requirements[c][s]*x[c] for c in Clothes[2:]) <= SkillCapacity[s]\n",
    "    \n",
    "prob += lpSum(4*x[i] for i in Clothes) <= 120\n",
    "\n",
    "# solve the problem\n",
    "prob.solve()\n",
    "\n",
    "\n",
    "\n"
   ]
  },
  {
   "cell_type": "markdown",
   "id": "91453f0b",
   "metadata": {},
   "source": [
    "A"
   ]
  },
  {
   "cell_type": "code",
   "execution_count": 29,
   "id": "ebae4f08",
   "metadata": {},
   "outputs": [
    {
     "name": "stdout",
     "output_type": "stream",
     "text": [
      "Status:  Optimal\n",
      "x_BesiktasJeans = 6\n",
      "x_BesiktasT_shirt = 1\n",
      "x_DavutpasaJeans = 3\n",
      "x_DavutpasaT_shirt = 11\n"
     ]
    }
   ],
   "source": [
    "# print the status \n",
    "print(\"Status: \",LpStatus[prob.status])\n",
    "\n",
    "# print the solution\n",
    "for v in prob.variables():\n",
    "        print(v.name, \"=\",v.varValue)\n"
   ]
  },
  {
   "cell_type": "markdown",
   "id": "f13060e8",
   "metadata": {},
   "source": [
    "B1"
   ]
  },
  {
   "cell_type": "code",
   "execution_count": 25,
   "id": "abb8ed5e",
   "metadata": {},
   "outputs": [
    {
     "name": "stdout",
     "output_type": "stream",
     "text": [
      "Besiktas cutting time = 64\n",
      "Davutpasa cutting time = 59\n"
     ]
    }
   ],
   "source": [
    "# print the cutting time for each Besiktas\n",
    "print(\"Besiktas cutting time =\", Requirements['BesiktasT-shirt']['BesiktasCutting']*value(x['BesiktasT-shirt']) + Requirements['BesiktasJeans']['BesiktasCutting']*value(x['BesiktasJeans']))\n",
    "\n",
    "# print the cutting time for each Davutpasa\n",
    "print(\"Davutpasa cutting time =\", Requirements['DavutpasaT-shirt']['DavutpasaCutting']*value(x['DavutpasaT-shirt']) + Requirements['DavutpasaJeans']['DavutpasaCutting']*value(x['DavutpasaJeans']))\n"
   ]
  },
  {
   "cell_type": "markdown",
   "id": "a92e1936",
   "metadata": {},
   "source": [
    "B2"
   ]
  },
  {
   "cell_type": "code",
   "execution_count": 26,
   "id": "5e52638d",
   "metadata": {},
   "outputs": [
    {
     "name": "stdout",
     "output_type": "stream",
     "text": [
      "Besiktas sewing time = 60\n",
      "Davutpasa sewing time = 74\n"
     ]
    }
   ],
   "source": [
    "# print the cutting time for each Besiktas\n",
    "print(\"Besiktas sewing time =\", Requirements['BesiktasT-shirt']['BesiktasSewing']*value(x['BesiktasT-shirt']) + Requirements['BesiktasJeans']['BesiktasSewing']*value(x['BesiktasJeans']))\n",
    "\n",
    "# print the cutting time for each Davutpasa\n",
    "print(\"Davutpasa sewing time =\", Requirements['DavutpasaT-shirt']['DavutpasaSewing']*value(x['DavutpasaT-shirt']) + Requirements['DavutpasaJeans']['DavutpasaSewing']*value(x['DavutpasaJeans']))\n"
   ]
  },
  {
   "cell_type": "markdown",
   "id": "6b72c592",
   "metadata": {},
   "source": [
    "B3"
   ]
  },
  {
   "cell_type": "code",
   "execution_count": 30,
   "id": "0b1c47c9",
   "metadata": {},
   "outputs": [
    {
     "name": "stdout",
     "output_type": "stream",
     "text": [
      "Total quantity produced for Besiktas:  7\n",
      "Total quantity produced for Davutpasa:  14\n"
     ]
    }
   ],
   "source": [
    "\"#defining a varible to store the amount of clothes produced in Beşiktaş\"\n",
    "besiktas_clothes = x[\"BesiktasT-shirt\"].varValue + x[\"BesiktasJeans\"].varValue\n",
    "\n",
    "#defining a varible to store the amount of clothes produced in Davutpaşa\n",
    "davutpasa_clothes = x[\"DavutpasaT-shirt\"].varValue + x[\"DavutpasaJeans\"].varValue\n",
    "\n",
    "print(\"Total quantity produced for Besiktas: \", besiktas_clothes)\n",
    "print(\"Total quantity produced for Davutpasa: \", davutpasa_clothes)\n"
   ]
  },
  {
   "cell_type": "markdown",
   "id": "c357b7f4",
   "metadata": {},
   "source": [
    "C"
   ]
  },
  {
   "cell_type": "code",
   "execution_count": 28,
   "id": "ac3c180c",
   "metadata": {},
   "outputs": [
    {
     "name": "stdout",
     "output_type": "stream",
     "text": [
      "Profit =  255\n"
     ]
    }
   ],
   "source": [
    "print(\"Profit = \",value(prob.objective))"
   ]
  },
  {
   "cell_type": "code",
   "execution_count": null,
   "id": "2de055a6",
   "metadata": {},
   "outputs": [],
   "source": []
  }
 ],
 "metadata": {
  "kernelspec": {
   "display_name": "Python 3 (ipykernel)",
   "language": "python",
   "name": "python3"
  },
  "language_info": {
   "codemirror_mode": {
    "name": "ipython",
    "version": 3
   },
   "file_extension": ".py",
   "mimetype": "text/x-python",
   "name": "python",
   "nbconvert_exporter": "python",
   "pygments_lexer": "ipython3",
   "version": "3.9.13"
  }
 },
 "nbformat": 4,
 "nbformat_minor": 5
}
